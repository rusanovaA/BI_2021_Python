{
 "cells": [
  {
   "cell_type": "markdown",
   "id": "2f124141",
   "metadata": {},
   "source": [
    "# HW pandas"
   ]
  },
  {
   "cell_type": "markdown",
   "id": "9ae93740",
   "metadata": {},
   "source": [
    "### 1. Построить гистограммы "
   ]
  },
  {
   "cell_type": "code",
   "execution_count": 1,
   "id": "67944f85",
   "metadata": {},
   "outputs": [],
   "source": [
    "import pandas as pd\n",
    "import matplotlib.pyplot as plt\n",
    "import seaborn as sns"
   ]
  },
  {
   "cell_type": "code",
   "execution_count": 60,
   "id": "e2022c7f",
   "metadata": {},
   "outputs": [],
   "source": [
    "reads_inf = pd.read_csv('https://raw.githubusercontent.com/Serfentum/bf_course/master/14.pandas/train.csv')"
   ]
  },
  {
   "cell_type": "code",
   "execution_count": 61,
   "id": "ee679990",
   "metadata": {},
   "outputs": [
    {
     "data": {
      "text/html": [
       "<div>\n",
       "<style scoped>\n",
       "    .dataframe tbody tr th:only-of-type {\n",
       "        vertical-align: middle;\n",
       "    }\n",
       "\n",
       "    .dataframe tbody tr th {\n",
       "        vertical-align: top;\n",
       "    }\n",
       "\n",
       "    .dataframe thead th {\n",
       "        text-align: right;\n",
       "    }\n",
       "</style>\n",
       "<table border=\"1\" class=\"dataframe\">\n",
       "  <thead>\n",
       "    <tr style=\"text-align: right;\">\n",
       "      <th></th>\n",
       "      <th>pos</th>\n",
       "      <th>reads_all</th>\n",
       "      <th>matches</th>\n",
       "      <th>mismatches</th>\n",
       "      <th>deletions</th>\n",
       "      <th>insertions</th>\n",
       "      <th>A</th>\n",
       "      <th>C</th>\n",
       "      <th>T</th>\n",
       "      <th>G</th>\n",
       "      <th>A_fraction</th>\n",
       "      <th>T_fraction</th>\n",
       "      <th>G_fraction</th>\n",
       "      <th>C_fraction</th>\n",
       "    </tr>\n",
       "  </thead>\n",
       "  <tbody>\n",
       "    <tr>\n",
       "      <th>0</th>\n",
       "      <td>279</td>\n",
       "      <td>8045</td>\n",
       "      <td>32</td>\n",
       "      <td>7972</td>\n",
       "      <td>46</td>\n",
       "      <td>8</td>\n",
       "      <td>7911.0</td>\n",
       "      <td>54.0</td>\n",
       "      <td>11.0</td>\n",
       "      <td>NaN</td>\n",
       "      <td>0.983503</td>\n",
       "      <td>0.000815</td>\n",
       "      <td>NaN</td>\n",
       "      <td>0.006896</td>\n",
       "    </tr>\n",
       "    <tr>\n",
       "      <th>1</th>\n",
       "      <td>280</td>\n",
       "      <td>8045</td>\n",
       "      <td>7995</td>\n",
       "      <td>48</td>\n",
       "      <td>19</td>\n",
       "      <td>9</td>\n",
       "      <td>NaN</td>\n",
       "      <td>16.0</td>\n",
       "      <td>13.0</td>\n",
       "      <td>19.0</td>\n",
       "      <td>NaN</td>\n",
       "      <td>0.001355</td>\n",
       "      <td>0.002392</td>\n",
       "      <td>0.001914</td>\n",
       "    </tr>\n",
       "    <tr>\n",
       "      <th>2</th>\n",
       "      <td>281</td>\n",
       "      <td>8045</td>\n",
       "      <td>7983</td>\n",
       "      <td>50</td>\n",
       "      <td>16</td>\n",
       "      <td>5</td>\n",
       "      <td>NaN</td>\n",
       "      <td>24.0</td>\n",
       "      <td>4.0</td>\n",
       "      <td>24.0</td>\n",
       "      <td>NaN</td>\n",
       "      <td>0.000639</td>\n",
       "      <td>0.002875</td>\n",
       "      <td>0.002310</td>\n",
       "    </tr>\n",
       "    <tr>\n",
       "      <th>3</th>\n",
       "      <td>282</td>\n",
       "      <td>8049</td>\n",
       "      <td>7510</td>\n",
       "      <td>505</td>\n",
       "      <td>33</td>\n",
       "      <td>65</td>\n",
       "      <td>105.0</td>\n",
       "      <td>11.0</td>\n",
       "      <td>395.0</td>\n",
       "      <td>NaN</td>\n",
       "      <td>0.012750</td>\n",
       "      <td>0.049096</td>\n",
       "      <td>NaN</td>\n",
       "      <td>0.000919</td>\n",
       "    </tr>\n",
       "    <tr>\n",
       "      <th>4</th>\n",
       "      <td>283</td>\n",
       "      <td>8042</td>\n",
       "      <td>7786</td>\n",
       "      <td>155</td>\n",
       "      <td>115</td>\n",
       "      <td>62</td>\n",
       "      <td>46.0</td>\n",
       "      <td>NaN</td>\n",
       "      <td>93.0</td>\n",
       "      <td>31.0</td>\n",
       "      <td>0.004960</td>\n",
       "      <td>0.010992</td>\n",
       "      <td>0.003186</td>\n",
       "      <td>NaN</td>\n",
       "    </tr>\n",
       "    <tr>\n",
       "      <th>...</th>\n",
       "      <td>...</td>\n",
       "      <td>...</td>\n",
       "      <td>...</td>\n",
       "      <td>...</td>\n",
       "      <td>...</td>\n",
       "      <td>...</td>\n",
       "      <td>...</td>\n",
       "      <td>...</td>\n",
       "      <td>...</td>\n",
       "      <td>...</td>\n",
       "      <td>...</td>\n",
       "      <td>...</td>\n",
       "      <td>...</td>\n",
       "      <td>...</td>\n",
       "    </tr>\n",
       "    <tr>\n",
       "      <th>58</th>\n",
       "      <td>337</td>\n",
       "      <td>8056</td>\n",
       "      <td>7542</td>\n",
       "      <td>471</td>\n",
       "      <td>58</td>\n",
       "      <td>7</td>\n",
       "      <td>NaN</td>\n",
       "      <td>63.0</td>\n",
       "      <td>47.0</td>\n",
       "      <td>367.0</td>\n",
       "      <td>NaN</td>\n",
       "      <td>0.004584</td>\n",
       "      <td>0.045444</td>\n",
       "      <td>0.007767</td>\n",
       "    </tr>\n",
       "    <tr>\n",
       "      <th>59</th>\n",
       "      <td>338</td>\n",
       "      <td>8061</td>\n",
       "      <td>7967</td>\n",
       "      <td>62</td>\n",
       "      <td>29</td>\n",
       "      <td>5</td>\n",
       "      <td>17.0</td>\n",
       "      <td>NaN</td>\n",
       "      <td>26.0</td>\n",
       "      <td>33.0</td>\n",
       "      <td>0.001060</td>\n",
       "      <td>0.002207</td>\n",
       "      <td>0.003992</td>\n",
       "      <td>NaN</td>\n",
       "    </tr>\n",
       "    <tr>\n",
       "      <th>60</th>\n",
       "      <td>339</td>\n",
       "      <td>8062</td>\n",
       "      <td>8002</td>\n",
       "      <td>48</td>\n",
       "      <td>14</td>\n",
       "      <td>3</td>\n",
       "      <td>14.0</td>\n",
       "      <td>14.0</td>\n",
       "      <td>33.0</td>\n",
       "      <td>NaN</td>\n",
       "      <td>0.001076</td>\n",
       "      <td>0.002953</td>\n",
       "      <td>NaN</td>\n",
       "      <td>0.001322</td>\n",
       "    </tr>\n",
       "    <tr>\n",
       "      <th>61</th>\n",
       "      <td>340</td>\n",
       "      <td>8061</td>\n",
       "      <td>7918</td>\n",
       "      <td>146</td>\n",
       "      <td>16</td>\n",
       "      <td>4</td>\n",
       "      <td>NaN</td>\n",
       "      <td>75.0</td>\n",
       "      <td>43.0</td>\n",
       "      <td>33.0</td>\n",
       "      <td>NaN</td>\n",
       "      <td>0.005307</td>\n",
       "      <td>0.002951</td>\n",
       "      <td>0.008808</td>\n",
       "    </tr>\n",
       "    <tr>\n",
       "      <th>62</th>\n",
       "      <td>341</td>\n",
       "      <td>8059</td>\n",
       "      <td>7869</td>\n",
       "      <td>192</td>\n",
       "      <td>2</td>\n",
       "      <td>4</td>\n",
       "      <td>NaN</td>\n",
       "      <td>134.0</td>\n",
       "      <td>37.0</td>\n",
       "      <td>17.0</td>\n",
       "      <td>NaN</td>\n",
       "      <td>0.004250</td>\n",
       "      <td>0.002243</td>\n",
       "      <td>0.016619</td>\n",
       "    </tr>\n",
       "  </tbody>\n",
       "</table>\n",
       "<p>63 rows × 14 columns</p>\n",
       "</div>"
      ],
      "text/plain": [
       "    pos  reads_all  matches  mismatches  deletions  insertions       A      C  \\\n",
       "0   279       8045       32        7972         46           8  7911.0   54.0   \n",
       "1   280       8045     7995          48         19           9     NaN   16.0   \n",
       "2   281       8045     7983          50         16           5     NaN   24.0   \n",
       "3   282       8049     7510         505         33          65   105.0   11.0   \n",
       "4   283       8042     7786         155        115          62    46.0    NaN   \n",
       "..  ...        ...      ...         ...        ...         ...     ...    ...   \n",
       "58  337       8056     7542         471         58           7     NaN   63.0   \n",
       "59  338       8061     7967          62         29           5    17.0    NaN   \n",
       "60  339       8062     8002          48         14           3    14.0   14.0   \n",
       "61  340       8061     7918         146         16           4     NaN   75.0   \n",
       "62  341       8059     7869         192          2           4     NaN  134.0   \n",
       "\n",
       "        T      G  A_fraction  T_fraction  G_fraction  C_fraction  \n",
       "0    11.0    NaN    0.983503    0.000815         NaN    0.006896  \n",
       "1    13.0   19.0         NaN    0.001355    0.002392    0.001914  \n",
       "2     4.0   24.0         NaN    0.000639    0.002875    0.002310  \n",
       "3   395.0    NaN    0.012750    0.049096         NaN    0.000919  \n",
       "4    93.0   31.0    0.004960    0.010992    0.003186         NaN  \n",
       "..    ...    ...         ...         ...         ...         ...  \n",
       "58   47.0  367.0         NaN    0.004584    0.045444    0.007767  \n",
       "59   26.0   33.0    0.001060    0.002207    0.003992         NaN  \n",
       "60   33.0    NaN    0.001076    0.002953         NaN    0.001322  \n",
       "61   43.0   33.0         NaN    0.005307    0.002951    0.008808  \n",
       "62   37.0   17.0         NaN    0.004250    0.002243    0.016619  \n",
       "\n",
       "[63 rows x 14 columns]"
      ]
     },
     "execution_count": 61,
     "metadata": {},
     "output_type": "execute_result"
    }
   ],
   "source": [
    "reads_inf"
   ]
  },
  {
   "cell_type": "code",
   "execution_count": 62,
   "id": "cd3afd7c",
   "metadata": {},
   "outputs": [],
   "source": [
    "reads_inf_nucl = reads_inf.drop([\"reads_all\", \"matches\", \"mismatches\", \"deletions\", \"insertions\", \"A_fraction\", \\\n",
    "                                \"T_fraction\", \"G_fraction\", \"C_fraction\"], axis=1)"
   ]
  },
  {
   "cell_type": "code",
   "execution_count": 63,
   "id": "553e73aa",
   "metadata": {},
   "outputs": [
    {
     "data": {
      "text/html": [
       "<div>\n",
       "<style scoped>\n",
       "    .dataframe tbody tr th:only-of-type {\n",
       "        vertical-align: middle;\n",
       "    }\n",
       "\n",
       "    .dataframe tbody tr th {\n",
       "        vertical-align: top;\n",
       "    }\n",
       "\n",
       "    .dataframe thead th {\n",
       "        text-align: right;\n",
       "    }\n",
       "</style>\n",
       "<table border=\"1\" class=\"dataframe\">\n",
       "  <thead>\n",
       "    <tr style=\"text-align: right;\">\n",
       "      <th></th>\n",
       "      <th>pos</th>\n",
       "      <th>A</th>\n",
       "      <th>C</th>\n",
       "      <th>T</th>\n",
       "      <th>G</th>\n",
       "    </tr>\n",
       "  </thead>\n",
       "  <tbody>\n",
       "    <tr>\n",
       "      <th>0</th>\n",
       "      <td>279</td>\n",
       "      <td>7911.0</td>\n",
       "      <td>54.0</td>\n",
       "      <td>11.0</td>\n",
       "      <td>NaN</td>\n",
       "    </tr>\n",
       "    <tr>\n",
       "      <th>1</th>\n",
       "      <td>280</td>\n",
       "      <td>NaN</td>\n",
       "      <td>16.0</td>\n",
       "      <td>13.0</td>\n",
       "      <td>19.0</td>\n",
       "    </tr>\n",
       "    <tr>\n",
       "      <th>2</th>\n",
       "      <td>281</td>\n",
       "      <td>NaN</td>\n",
       "      <td>24.0</td>\n",
       "      <td>4.0</td>\n",
       "      <td>24.0</td>\n",
       "    </tr>\n",
       "    <tr>\n",
       "      <th>3</th>\n",
       "      <td>282</td>\n",
       "      <td>105.0</td>\n",
       "      <td>11.0</td>\n",
       "      <td>395.0</td>\n",
       "      <td>NaN</td>\n",
       "    </tr>\n",
       "    <tr>\n",
       "      <th>4</th>\n",
       "      <td>283</td>\n",
       "      <td>46.0</td>\n",
       "      <td>NaN</td>\n",
       "      <td>93.0</td>\n",
       "      <td>31.0</td>\n",
       "    </tr>\n",
       "    <tr>\n",
       "      <th>...</th>\n",
       "      <td>...</td>\n",
       "      <td>...</td>\n",
       "      <td>...</td>\n",
       "      <td>...</td>\n",
       "      <td>...</td>\n",
       "    </tr>\n",
       "    <tr>\n",
       "      <th>58</th>\n",
       "      <td>337</td>\n",
       "      <td>NaN</td>\n",
       "      <td>63.0</td>\n",
       "      <td>47.0</td>\n",
       "      <td>367.0</td>\n",
       "    </tr>\n",
       "    <tr>\n",
       "      <th>59</th>\n",
       "      <td>338</td>\n",
       "      <td>17.0</td>\n",
       "      <td>NaN</td>\n",
       "      <td>26.0</td>\n",
       "      <td>33.0</td>\n",
       "    </tr>\n",
       "    <tr>\n",
       "      <th>60</th>\n",
       "      <td>339</td>\n",
       "      <td>14.0</td>\n",
       "      <td>14.0</td>\n",
       "      <td>33.0</td>\n",
       "      <td>NaN</td>\n",
       "    </tr>\n",
       "    <tr>\n",
       "      <th>61</th>\n",
       "      <td>340</td>\n",
       "      <td>NaN</td>\n",
       "      <td>75.0</td>\n",
       "      <td>43.0</td>\n",
       "      <td>33.0</td>\n",
       "    </tr>\n",
       "    <tr>\n",
       "      <th>62</th>\n",
       "      <td>341</td>\n",
       "      <td>NaN</td>\n",
       "      <td>134.0</td>\n",
       "      <td>37.0</td>\n",
       "      <td>17.0</td>\n",
       "    </tr>\n",
       "  </tbody>\n",
       "</table>\n",
       "<p>63 rows × 5 columns</p>\n",
       "</div>"
      ],
      "text/plain": [
       "    pos       A      C      T      G\n",
       "0   279  7911.0   54.0   11.0    NaN\n",
       "1   280     NaN   16.0   13.0   19.0\n",
       "2   281     NaN   24.0    4.0   24.0\n",
       "3   282   105.0   11.0  395.0    NaN\n",
       "4   283    46.0    NaN   93.0   31.0\n",
       "..  ...     ...    ...    ...    ...\n",
       "58  337     NaN   63.0   47.0  367.0\n",
       "59  338    17.0    NaN   26.0   33.0\n",
       "60  339    14.0   14.0   33.0    NaN\n",
       "61  340     NaN   75.0   43.0   33.0\n",
       "62  341     NaN  134.0   37.0   17.0\n",
       "\n",
       "[63 rows x 5 columns]"
      ]
     },
     "execution_count": 63,
     "metadata": {},
     "output_type": "execute_result"
    }
   ],
   "source": [
    "reads_inf_nucl"
   ]
  },
  {
   "cell_type": "code",
   "execution_count": 69,
   "id": "64499c0f",
   "metadata": {},
   "outputs": [
    {
     "data": {
      "text/plain": [
       "<AxesSubplot:xlabel='pos'>"
      ]
     },
     "execution_count": 69,
     "metadata": {},
     "output_type": "execute_result"
    },
    {
     "data": {
      "image/png": "[encoded data removed]",
      "text/plain": [
       "<Figure size 432x288 with 1 Axes>"
      ]
     },
     "metadata": {
      "needs_background": "light"
     },
     "output_type": "display_data"
    }
   ],
   "source": [
    "sns.set_palette(\"Set2\")\n",
    "reads_inf_nucl.plot(x = \"pos\", y = [\"A\", \"C\", \"G\", \"T\"],  kind = 'bar')"
   ]
  },
  {
   "cell_type": "code",
   "execution_count": 91,
   "id": "2b5a0cb4",
   "metadata": {},
   "outputs": [],
   "source": [
    "reads_inf_nucl_in = reads_inf_nucl.set_index(\"pos\")"
   ]
  },
  {
   "cell_type": "code",
   "execution_count": 81,
   "id": "39c37a89",
   "metadata": {},
   "outputs": [
    {
     "data": {
      "text/plain": [
       "<seaborn.axisgrid.FacetGrid at 0x1cf0e8eb280>"
      ]
     },
     "execution_count": 81,
     "metadata": {},
     "output_type": "execute_result"
    },
    {
     "data": {
      "image/png": "[encoded data removed]",
      "text/plain": [
       "<Figure size 403.75x360 with 1 Axes>"
      ]
     },
     "metadata": {
      "needs_background": "light"
     },
     "output_type": "display_data"
    }
   ],
   "source": [
    "sns.displot(reads_inf_nucl_in)"
   ]
  },
  {
   "cell_type": "code",
   "execution_count": 125,
   "id": "959d71f4",
   "metadata": {},
   "outputs": [],
   "source": [
    "reads_inf_nucl.iloc[:, 1:] = reads_inf_nucl.iloc[:, 1:].div(reads_inf_nucl.iloc[:, 1:].sum(1), axis=0).mul(100)"
   ]
  },
  {
   "cell_type": "code",
   "execution_count": 126,
   "id": "8e9a31a4",
   "metadata": {},
   "outputs": [
    {
     "data": {
      "text/html": [
       "<div>\n",
       "<style scoped>\n",
       "    .dataframe tbody tr th:only-of-type {\n",
       "        vertical-align: middle;\n",
       "    }\n",
       "\n",
       "    .dataframe tbody tr th {\n",
       "        vertical-align: top;\n",
       "    }\n",
       "\n",
       "    .dataframe thead th {\n",
       "        text-align: right;\n",
       "    }\n",
       "</style>\n",
       "<table border=\"1\" class=\"dataframe\">\n",
       "  <thead>\n",
       "    <tr style=\"text-align: right;\">\n",
       "      <th></th>\n",
       "      <th>pos</th>\n",
       "      <th>A</th>\n",
       "      <th>C</th>\n",
       "      <th>T</th>\n",
       "      <th>G</th>\n",
       "    </tr>\n",
       "  </thead>\n",
       "  <tbody>\n",
       "    <tr>\n",
       "      <th>0</th>\n",
       "      <td>279</td>\n",
       "      <td>99.185055</td>\n",
       "      <td>0.677031</td>\n",
       "      <td>0.137914</td>\n",
       "      <td>NaN</td>\n",
       "    </tr>\n",
       "    <tr>\n",
       "      <th>1</th>\n",
       "      <td>280</td>\n",
       "      <td>NaN</td>\n",
       "      <td>33.333333</td>\n",
       "      <td>27.083333</td>\n",
       "      <td>39.583333</td>\n",
       "    </tr>\n",
       "    <tr>\n",
       "      <th>2</th>\n",
       "      <td>281</td>\n",
       "      <td>NaN</td>\n",
       "      <td>46.153846</td>\n",
       "      <td>7.692308</td>\n",
       "      <td>46.153846</td>\n",
       "    </tr>\n",
       "    <tr>\n",
       "      <th>3</th>\n",
       "      <td>282</td>\n",
       "      <td>20.547945</td>\n",
       "      <td>2.152642</td>\n",
       "      <td>77.299413</td>\n",
       "      <td>NaN</td>\n",
       "    </tr>\n",
       "    <tr>\n",
       "      <th>4</th>\n",
       "      <td>283</td>\n",
       "      <td>27.058824</td>\n",
       "      <td>NaN</td>\n",
       "      <td>54.705882</td>\n",
       "      <td>18.235294</td>\n",
       "    </tr>\n",
       "    <tr>\n",
       "      <th>...</th>\n",
       "      <td>...</td>\n",
       "      <td>...</td>\n",
       "      <td>...</td>\n",
       "      <td>...</td>\n",
       "      <td>...</td>\n",
       "    </tr>\n",
       "    <tr>\n",
       "      <th>58</th>\n",
       "      <td>337</td>\n",
       "      <td>NaN</td>\n",
       "      <td>13.207547</td>\n",
       "      <td>9.853249</td>\n",
       "      <td>76.939203</td>\n",
       "    </tr>\n",
       "    <tr>\n",
       "      <th>59</th>\n",
       "      <td>338</td>\n",
       "      <td>22.368421</td>\n",
       "      <td>NaN</td>\n",
       "      <td>34.210526</td>\n",
       "      <td>43.421053</td>\n",
       "    </tr>\n",
       "    <tr>\n",
       "      <th>60</th>\n",
       "      <td>339</td>\n",
       "      <td>22.950820</td>\n",
       "      <td>22.950820</td>\n",
       "      <td>54.098361</td>\n",
       "      <td>NaN</td>\n",
       "    </tr>\n",
       "    <tr>\n",
       "      <th>61</th>\n",
       "      <td>340</td>\n",
       "      <td>NaN</td>\n",
       "      <td>49.668874</td>\n",
       "      <td>28.476821</td>\n",
       "      <td>21.854305</td>\n",
       "    </tr>\n",
       "    <tr>\n",
       "      <th>62</th>\n",
       "      <td>341</td>\n",
       "      <td>NaN</td>\n",
       "      <td>71.276596</td>\n",
       "      <td>19.680851</td>\n",
       "      <td>9.042553</td>\n",
       "    </tr>\n",
       "  </tbody>\n",
       "</table>\n",
       "<p>63 rows × 5 columns</p>\n",
       "</div>"
      ],
      "text/plain": [
       "    pos          A          C          T          G\n",
       "0   279  99.185055   0.677031   0.137914        NaN\n",
       "1   280        NaN  33.333333  27.083333  39.583333\n",
       "2   281        NaN  46.153846   7.692308  46.153846\n",
       "3   282  20.547945   2.152642  77.299413        NaN\n",
       "4   283  27.058824        NaN  54.705882  18.235294\n",
       "..  ...        ...        ...        ...        ...\n",
       "58  337        NaN  13.207547   9.853249  76.939203\n",
       "59  338  22.368421        NaN  34.210526  43.421053\n",
       "60  339  22.950820  22.950820  54.098361        NaN\n",
       "61  340        NaN  49.668874  28.476821  21.854305\n",
       "62  341        NaN  71.276596  19.680851   9.042553\n",
       "\n",
       "[63 rows x 5 columns]"
      ]
     },
     "execution_count": 126,
     "metadata": {},
     "output_type": "execute_result"
    }
   ],
   "source": [
    "reads_inf_nucl"
   ]
  },
  {
   "cell_type": "code",
   "execution_count": 127,
   "id": "bf65ef3b",
   "metadata": {
    "scrolled": true
   },
   "outputs": [
    {
     "data": {
      "text/plain": [
       "<AxesSubplot:xlabel='pos'>"
      ]
     },
     "execution_count": 127,
     "metadata": {},
     "output_type": "execute_result"
    },
    {
     "data": {
      "image/png": "[encoded data removed]",
      "text/plain": [
       "<Figure size 432x288 with 1 Axes>"
      ]
     },
     "metadata": {
      "needs_background": "light"
     },
     "output_type": "display_data"
    }
   ],
   "source": [
    "reads_inf_nucl.plot(x = \"pos\", y = [\"A\", \"C\", \"G\", \"T\"], kind = 'bar')"
   ]
  },
  {
   "cell_type": "markdown",
   "id": "44085a39",
   "metadata": {},
   "source": [
    "### 2. Отбор необходимых данных"
   ]
  },
  {
   "cell_type": "code",
   "execution_count": 14,
   "id": "2452921d",
   "metadata": {},
   "outputs": [],
   "source": [
    "mean_matches = reads_inf[\"matches\"].mean()"
   ]
  },
  {
   "cell_type": "code",
   "execution_count": 15,
   "id": "af0be6e9",
   "metadata": {},
   "outputs": [],
   "source": [
    "train_part = reads_inf.loc[reads_inf[\"matches\"] > mean_matches]"
   ]
  },
  {
   "cell_type": "code",
   "execution_count": 35,
   "id": "1a428e39",
   "metadata": {},
   "outputs": [],
   "source": [
    "train_part = train_part.filter(items=[\"pos\", \"reads_all\", \"mismatches\", \"deletions\", \"insertions\"])"
   ]
  },
  {
   "cell_type": "code",
   "execution_count": 36,
   "id": "1d222fd1",
   "metadata": {},
   "outputs": [],
   "source": [
    "train_part.to_csv('train_part', sep='\\t', index=False)"
   ]
  },
  {
   "cell_type": "markdown",
   "id": "ad12665b",
   "metadata": {},
   "source": [
    "### 3. Сделать небольшой EDA"
   ]
  },
  {
   "cell_type": "code",
   "execution_count": 33,
   "id": "7859f33c",
   "metadata": {},
   "outputs": [],
   "source": [
    "data_path = 'Mall_Customers.csv'\n",
    "customers_data = pd.read_csv(data_path)"
   ]
  },
  {
   "cell_type": "code",
   "execution_count": 34,
   "id": "8f373b3e",
   "metadata": {},
   "outputs": [
    {
     "data": {
      "text/html": [
       "<div>\n",
       "<style scoped>\n",
       "    .dataframe tbody tr th:only-of-type {\n",
       "        vertical-align: middle;\n",
       "    }\n",
       "\n",
       "    .dataframe tbody tr th {\n",
       "        vertical-align: top;\n",
       "    }\n",
       "\n",
       "    .dataframe thead th {\n",
       "        text-align: right;\n",
       "    }\n",
       "</style>\n",
       "<table border=\"1\" class=\"dataframe\">\n",
       "  <thead>\n",
       "    <tr style=\"text-align: right;\">\n",
       "      <th></th>\n",
       "      <th>CustomerID</th>\n",
       "      <th>Gender</th>\n",
       "      <th>Age</th>\n",
       "      <th>Annual Income (k$)</th>\n",
       "      <th>Spending Score (1-100)</th>\n",
       "    </tr>\n",
       "  </thead>\n",
       "  <tbody>\n",
       "    <tr>\n",
       "      <th>0</th>\n",
       "      <td>1</td>\n",
       "      <td>Male</td>\n",
       "      <td>19</td>\n",
       "      <td>15</td>\n",
       "      <td>39</td>\n",
       "    </tr>\n",
       "    <tr>\n",
       "      <th>1</th>\n",
       "      <td>2</td>\n",
       "      <td>Male</td>\n",
       "      <td>21</td>\n",
       "      <td>15</td>\n",
       "      <td>81</td>\n",
       "    </tr>\n",
       "    <tr>\n",
       "      <th>2</th>\n",
       "      <td>3</td>\n",
       "      <td>Female</td>\n",
       "      <td>20</td>\n",
       "      <td>16</td>\n",
       "      <td>6</td>\n",
       "    </tr>\n",
       "    <tr>\n",
       "      <th>3</th>\n",
       "      <td>4</td>\n",
       "      <td>Female</td>\n",
       "      <td>23</td>\n",
       "      <td>16</td>\n",
       "      <td>77</td>\n",
       "    </tr>\n",
       "    <tr>\n",
       "      <th>4</th>\n",
       "      <td>5</td>\n",
       "      <td>Female</td>\n",
       "      <td>31</td>\n",
       "      <td>17</td>\n",
       "      <td>40</td>\n",
       "    </tr>\n",
       "    <tr>\n",
       "      <th>...</th>\n",
       "      <td>...</td>\n",
       "      <td>...</td>\n",
       "      <td>...</td>\n",
       "      <td>...</td>\n",
       "      <td>...</td>\n",
       "    </tr>\n",
       "    <tr>\n",
       "      <th>195</th>\n",
       "      <td>196</td>\n",
       "      <td>Female</td>\n",
       "      <td>35</td>\n",
       "      <td>120</td>\n",
       "      <td>79</td>\n",
       "    </tr>\n",
       "    <tr>\n",
       "      <th>196</th>\n",
       "      <td>197</td>\n",
       "      <td>Female</td>\n",
       "      <td>45</td>\n",
       "      <td>126</td>\n",
       "      <td>28</td>\n",
       "    </tr>\n",
       "    <tr>\n",
       "      <th>197</th>\n",
       "      <td>198</td>\n",
       "      <td>Male</td>\n",
       "      <td>32</td>\n",
       "      <td>126</td>\n",
       "      <td>74</td>\n",
       "    </tr>\n",
       "    <tr>\n",
       "      <th>198</th>\n",
       "      <td>199</td>\n",
       "      <td>Male</td>\n",
       "      <td>32</td>\n",
       "      <td>137</td>\n",
       "      <td>18</td>\n",
       "    </tr>\n",
       "    <tr>\n",
       "      <th>199</th>\n",
       "      <td>200</td>\n",
       "      <td>Male</td>\n",
       "      <td>30</td>\n",
       "      <td>137</td>\n",
       "      <td>83</td>\n",
       "    </tr>\n",
       "  </tbody>\n",
       "</table>\n",
       "<p>200 rows × 5 columns</p>\n",
       "</div>"
      ],
      "text/plain": [
       "     CustomerID  Gender  Age  Annual Income (k$)  Spending Score (1-100)\n",
       "0             1    Male   19                  15                      39\n",
       "1             2    Male   21                  15                      81\n",
       "2             3  Female   20                  16                       6\n",
       "3             4  Female   23                  16                      77\n",
       "4             5  Female   31                  17                      40\n",
       "..          ...     ...  ...                 ...                     ...\n",
       "195         196  Female   35                 120                      79\n",
       "196         197  Female   45                 126                      28\n",
       "197         198    Male   32                 126                      74\n",
       "198         199    Male   32                 137                      18\n",
       "199         200    Male   30                 137                      83\n",
       "\n",
       "[200 rows x 5 columns]"
      ]
     },
     "execution_count": 34,
     "metadata": {},
     "output_type": "execute_result"
    }
   ],
   "source": [
    "customers_data"
   ]
  },
  {
   "cell_type": "code",
   "execution_count": 4,
   "id": "1b1d0793",
   "metadata": {},
   "outputs": [
    {
     "data": {
      "text/html": [
       "<div>\n",
       "<style scoped>\n",
       "    .dataframe tbody tr th:only-of-type {\n",
       "        vertical-align: middle;\n",
       "    }\n",
       "\n",
       "    .dataframe tbody tr th {\n",
       "        vertical-align: top;\n",
       "    }\n",
       "\n",
       "    .dataframe thead th {\n",
       "        text-align: right;\n",
       "    }\n",
       "</style>\n",
       "<table border=\"1\" class=\"dataframe\">\n",
       "  <thead>\n",
       "    <tr style=\"text-align: right;\">\n",
       "      <th></th>\n",
       "      <th>CustomerID</th>\n",
       "      <th>Age</th>\n",
       "      <th>Annual Income (k$)</th>\n",
       "      <th>Spending Score (1-100)</th>\n",
       "    </tr>\n",
       "  </thead>\n",
       "  <tbody>\n",
       "    <tr>\n",
       "      <th>count</th>\n",
       "      <td>200.000000</td>\n",
       "      <td>200.000000</td>\n",
       "      <td>200.000000</td>\n",
       "      <td>200.000000</td>\n",
       "    </tr>\n",
       "    <tr>\n",
       "      <th>mean</th>\n",
       "      <td>100.500000</td>\n",
       "      <td>38.850000</td>\n",
       "      <td>60.560000</td>\n",
       "      <td>50.200000</td>\n",
       "    </tr>\n",
       "    <tr>\n",
       "      <th>std</th>\n",
       "      <td>57.879185</td>\n",
       "      <td>13.969007</td>\n",
       "      <td>26.264721</td>\n",
       "      <td>25.823522</td>\n",
       "    </tr>\n",
       "    <tr>\n",
       "      <th>min</th>\n",
       "      <td>1.000000</td>\n",
       "      <td>18.000000</td>\n",
       "      <td>15.000000</td>\n",
       "      <td>1.000000</td>\n",
       "    </tr>\n",
       "    <tr>\n",
       "      <th>25%</th>\n",
       "      <td>50.750000</td>\n",
       "      <td>28.750000</td>\n",
       "      <td>41.500000</td>\n",
       "      <td>34.750000</td>\n",
       "    </tr>\n",
       "    <tr>\n",
       "      <th>50%</th>\n",
       "      <td>100.500000</td>\n",
       "      <td>36.000000</td>\n",
       "      <td>61.500000</td>\n",
       "      <td>50.000000</td>\n",
       "    </tr>\n",
       "    <tr>\n",
       "      <th>75%</th>\n",
       "      <td>150.250000</td>\n",
       "      <td>49.000000</td>\n",
       "      <td>78.000000</td>\n",
       "      <td>73.000000</td>\n",
       "    </tr>\n",
       "    <tr>\n",
       "      <th>max</th>\n",
       "      <td>200.000000</td>\n",
       "      <td>70.000000</td>\n",
       "      <td>137.000000</td>\n",
       "      <td>99.000000</td>\n",
       "    </tr>\n",
       "  </tbody>\n",
       "</table>\n",
       "</div>"
      ],
      "text/plain": [
       "       CustomerID         Age  Annual Income (k$)  Spending Score (1-100)\n",
       "count  200.000000  200.000000          200.000000              200.000000\n",
       "mean   100.500000   38.850000           60.560000               50.200000\n",
       "std     57.879185   13.969007           26.264721               25.823522\n",
       "min      1.000000   18.000000           15.000000                1.000000\n",
       "25%     50.750000   28.750000           41.500000               34.750000\n",
       "50%    100.500000   36.000000           61.500000               50.000000\n",
       "75%    150.250000   49.000000           78.000000               73.000000\n",
       "max    200.000000   70.000000          137.000000               99.000000"
      ]
     },
     "execution_count": 4,
     "metadata": {},
     "output_type": "execute_result"
    }
   ],
   "source": [
    "customers_data.describe()"
   ]
  },
  {
   "cell_type": "code",
   "execution_count": 89,
   "id": "a9e836df",
   "metadata": {},
   "outputs": [
    {
     "data": {
      "text/plain": [
       "CustomerID                 int64\n",
       "Gender                    object\n",
       "Age                        int64\n",
       "Annual Income (k$)         int64\n",
       "Spending Score (1-100)     int64\n",
       "dtype: object"
      ]
     },
     "execution_count": 89,
     "metadata": {},
     "output_type": "execute_result"
    }
   ],
   "source": [
    "customers_data.dtypes"
   ]
  },
  {
   "cell_type": "code",
   "execution_count": 30,
   "id": "d38b94f8",
   "metadata": {},
   "outputs": [
    {
     "data": {
      "text/plain": [
       "<seaborn.axisgrid.PairGrid at 0x1cf09e6c5b0>"
      ]
     },
     "execution_count": 30,
     "metadata": {},
     "output_type": "execute_result"
    },
    {
     "data": {
      "image/png": "[encoded data removed]",
      "text/plain": [
       "<Figure size 720x720 with 20 Axes>"
      ]
     },
     "metadata": {
      "needs_background": "light"
     },
     "output_type": "display_data"
    }
   ],
   "source": [
    "sns.set_palette(\"crest\")\n",
    "sns.pairplot(customers_data)"
   ]
  },
  {
   "cell_type": "code",
   "execution_count": 27,
   "id": "3a8ad7a6",
   "metadata": {},
   "outputs": [
    {
     "data": {
      "text/plain": [
       "<seaborn.axisgrid.FacetGrid at 0x1cf07f11e50>"
      ]
     },
     "execution_count": 27,
     "metadata": {},
     "output_type": "execute_result"
    },
    {
     "data": {
      "image/png": "[encoded data removed]",
      "text/plain": [
       "<Figure size 432.125x360 with 1 Axes>"
      ]
     },
     "metadata": {
      "needs_background": "light"
     },
     "output_type": "display_data"
    }
   ],
   "source": [
    "sns.set_palette(\"Set2\")\n",
    "sns.lmplot(y='Annual Income (k$)', x='Spending Score (1-100)', hue='Gender', data=customers_data)"
   ]
  },
  {
   "cell_type": "code",
   "execution_count": 28,
   "id": "57b8c1cd",
   "metadata": {},
   "outputs": [
    {
     "data": {
      "text/plain": [
       "<seaborn.axisgrid.FacetGrid at 0x1cf09d327f0>"
      ]
     },
     "execution_count": 28,
     "metadata": {},
     "output_type": "execute_result"
    },
    {
     "data": {
      "image/png": "[encoded data removed]",
      "text/plain": [
       "<Figure size 432.125x360 with 1 Axes>"
      ]
     },
     "metadata": {
      "needs_background": "light"
     },
     "output_type": "display_data"
    }
   ],
   "source": [
    "sns.set_palette(\"icefire\")\n",
    "sns.displot(customers_data, x=\"Spending Score (1-100)\", hue=\"Gender\", multiple=\"dodge\")"
   ]
  },
  {
   "cell_type": "markdown",
   "id": "1b5d3859",
   "metadata": {},
   "source": [
    "### 4. Работа с реальными данными"
   ]
  },
  {
   "cell_type": "code",
   "execution_count": 36,
   "id": "34fffb77",
   "metadata": {},
   "outputs": [],
   "source": [
    "def read_gff(gff_file):\n",
    "    f = open(gff_file, \"r\")\n",
    "    for x in f:\n",
    "        df = pd.DataFrame(x)\n",
    "    return df"
   ]
  },
  {
   "cell_type": "code",
   "execution_count": 38,
   "id": "d21fa93b",
   "metadata": {},
   "outputs": [
    {
     "name": "stdout",
     "output_type": "stream",
     "text": [
      "# gff3-format\n",
      "Reference_10\tbarrnap:0.9\trRNA\t67122\t68652\t0.0\t+\t.\tName=16S_rRNA;product=16S ribosomal RNA\n",
      "Reference_10\tbarrnap:0.9\trRNA\t68981\t72061\t0.0\t+\t.\tName=23S_rRNA;product=23S ribosomal RNA\n",
      "Reference_10\tbarrnap:0.9\trRNA\t469298\t470826\t0.0\t+\t.\tName=16S_rRNA;product=16S ribosomal RNA\n",
      "Reference_10\tbarrnap:0.9\trRNA\t471166\t474246\t0.0\t+\t.\tName=23S_rRNA;product=23S ribosomal RNA\n",
      "Reference_10\tbarrnap:0.9\trRNA\t3629599\t3632680\t0.0\t-\t.\tName=23S_rRNA;product=23S ribosomal RNA\n",
      "Reference_10\tbarrnap:0.9\trRNA\t3633020\t3634549\t0.0\t-\t.\tName=16S_rRNA;product=16S ribosomal RNA\n",
      "Reference_10\tbarrnap:0.9\trRNA\t6168837\t6170367\t0.0\t+\t.\tName=16S_rRNA;product=16S ribosomal RNA\n",
      "Reference_10\tbarrnap:0.9\trRNA\t6170707\t6173787\t0.0\t+\t.\tName=23S_rRNA;product=23S ribosomal RNA\n"
     ]
    }
   ],
   "source": [
    "f = open(\"small_gff.gff\", \"r\")\n",
    "print(f.read())"
   ]
  },
  {
   "cell_type": "code",
   "execution_count": 42,
   "id": "bcfd249f",
   "metadata": {},
   "outputs": [],
   "source": [
    "df = pd.DataFrame(columns=['Chromosome', 'Source', 'Type', 'Start', 'End', 'Score', 'Strand', 'Phase', 'Attributes'])"
   ]
  },
  {
   "cell_type": "code",
   "execution_count": 130,
   "id": "d7ae4274",
   "metadata": {},
   "outputs": [],
   "source": [
    "file = open(\"small_gff.gff\", \"r\")\n",
    "new_list = []\n",
    "for line in file:\n",
    "    for i in line:\n",
    "            i = line.rstrip('\\n').split('\\t')\n",
    "    new_list.append(i)\n",
    "new_list.pop(0)"
   ]
  },
  {
   "cell_type": "code",
   "execution_count": 135,
   "id": "5d7476c1",
   "metadata": {},
   "outputs": [
    {
     "name": "stdout",
     "output_type": "stream",
     "text": [
      "Reference_10\n",
      "barrnap:0.9\n",
      "rRNA\n",
      "67122\n",
      "68652\n",
      "0.0\n",
      "+\n",
      ".\n",
      "Name=16S_rRNA;product=16S ribosomal RNA\n",
      "Reference_10\n",
      "barrnap:0.9\n",
      "rRNA\n",
      "68981\n",
      "72061\n",
      "0.0\n",
      "+\n",
      ".\n",
      "Name=23S_rRNA;product=23S ribosomal RNA\n",
      "Reference_10\n",
      "barrnap:0.9\n",
      "rRNA\n",
      "469298\n",
      "470826\n",
      "0.0\n",
      "+\n",
      ".\n",
      "Name=16S_rRNA;product=16S ribosomal RNA\n",
      "Reference_10\n",
      "barrnap:0.9\n",
      "rRNA\n",
      "471166\n",
      "474246\n",
      "0.0\n",
      "+\n",
      ".\n",
      "Name=23S_rRNA;product=23S ribosomal RNA\n",
      "Reference_10\n",
      "barrnap:0.9\n",
      "rRNA\n",
      "3629599\n",
      "3632680\n",
      "0.0\n",
      "-\n",
      ".\n",
      "Name=23S_rRNA;product=23S ribosomal RNA\n",
      "Reference_10\n",
      "barrnap:0.9\n",
      "rRNA\n",
      "3633020\n",
      "3634549\n",
      "0.0\n",
      "-\n",
      ".\n",
      "Name=16S_rRNA;product=16S ribosomal RNA\n",
      "Reference_10\n",
      "barrnap:0.9\n",
      "rRNA\n",
      "6168837\n",
      "6170367\n",
      "0.0\n",
      "+\n",
      ".\n",
      "Name=16S_rRNA;product=16S ribosomal RNA\n",
      "Reference_10\n",
      "barrnap:0.9\n",
      "rRNA\n",
      "6170707\n",
      "6173787\n",
      "0.0\n",
      "+\n",
      ".\n",
      "Name=23S_rRNA;product=23S ribosomal RNA\n"
     ]
    }
   ],
   "source": [
    "for i in new_list:\n",
    "    for j in i:\n",
    "        print(j)"
   ]
  }
 ],
 "metadata": {
  "kernelspec": {
   "display_name": "Python 3 (ipykernel)",
   "language": "python",
   "name": "python3"
  },
  "language_info": {
   "codemirror_mode": {
    "name": "ipython",
    "version": 3
   },
   "file_extension": ".py",
   "mimetype": "text/x-python",
   "name": "python",
   "nbconvert_exporter": "python",
   "pygments_lexer": "ipython3",
   "version": "3.9.7"
  }
 },
 "nbformat": 4,
 "nbformat_minor": 5
}
