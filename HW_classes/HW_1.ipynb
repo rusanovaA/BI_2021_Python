{
 "cells": [
  {
   "cell_type": "markdown",
   "id": "2691740e",
   "metadata": {},
   "source": [
    "# HW Classes"
   ]
  },
  {
   "cell_type": "markdown",
   "id": "9532900c",
   "metadata": {},
   "source": [
    "<h3>1. My class<h3>\n",
    "Сделайте небольшой класс, описывающий какую-то сущность на ваш выбор"
   ]
  },
  {
   "cell_type": "code",
   "execution_count": 4,
   "id": "fca77e2b",
   "metadata": {},
   "outputs": [],
   "source": [
    "import Bio\n",
    "from Bio.Seq import Seq \n",
    "from Bio import SeqIO\n",
    "import seaborn as sns"
   ]
  },
  {
   "cell_type": "code",
   "execution_count": 14,
   "id": "ba3c2303",
   "metadata": {},
   "outputs": [],
   "source": [
    "class DoctorWho:\n",
    "    number_of_hearts = 2\n",
    "    can_regenerate = True\n",
    "    \n",
    "    def __init__(self, number):\n",
    "        self.number = number     \n",
    "        \n",
    "    def save_the_world(self):\n",
    "        print(\"I'm the Doctor. I'm a Timelord. I'm from the Planet Gallifrey \\\n",
    "              in the constellation of Kasterborous. I'm 903 years old, \\\n",
    "              and I'm the man who's gonna save your lives and all 6 billion \\\n",
    "              people on the planet below. You got a problem with that?\")\n",
    "              \n",
    "    def run_fast(self):\n",
    "        print(\"Run!!!\")\n",
    "              \n",
    "    def be_kind(self):\n",
    "        print(\"In 900 years of time and space, I’ve never met anyone who wasn’t important\")"
   ]
  },
  {
   "cell_type": "code",
   "execution_count": 15,
   "id": "759ebd95",
   "metadata": {},
   "outputs": [
    {
     "name": "stdout",
     "output_type": "stream",
     "text": [
      "Run!!!\n"
     ]
    }
   ],
   "source": [
    "Eleventh = DoctorWho('Eleventh')\n",
    "Eleventh.run_fast()"
   ]
  },
  {
   "cell_type": "markdown",
   "id": "841e094a",
   "metadata": {},
   "source": [
    "<h3> 2. Сlass that describes RNA<h3>\n",
    "     Напишите класс, описывающий РНК"
   ]
  },
  {
   "cell_type": "code",
   "execution_count": 16,
   "id": "c93330e2",
   "metadata": {},
   "outputs": [],
   "source": [
    "class DescribeRNA:\n",
    "    def __init__(self, rna_seq):\n",
    "        self.rna_seq = Seq(rna_seq)\n",
    "        if rna_seq.find(\"T\") != -1:\n",
    "            print(\"Please, try again! The seq in not RNA\")\n",
    "        else:\n",
    "            print(\"It is RNA. Continue\")\n",
    "        \n",
    "        \n",
    "    def translate_rna(self):\n",
    "        print(Seq.translate(Seq(self.rna_seq)))\n",
    "        \n",
    "    def back_transcribe_rna(self):\n",
    "        print(Seq.back_transcribe(Seq(self.rna_seq)))\n",
    "    "
   ]
  },
  {
   "cell_type": "code",
   "execution_count": 17,
   "id": "2a36226a",
   "metadata": {},
   "outputs": [
    {
     "name": "stdout",
     "output_type": "stream",
     "text": [
      "It is RNA. Continue\n"
     ]
    }
   ],
   "source": [
    "my_seq = DescribeRNA(\"UGGGGAAUAUUGGACAAUGGGGGCAACCCUGAUCCAGCCAUGCCGCGUGUGUGAAGAAGGCCUUCGGGUUGUAAAGCACUUUCAGAUGUGAGGAAAGGAUAGUAGCUAAUAACUGCUAUCUGUGACGUUAACAUCAGAAGAAGGACCGGCUAACUCCGUGCCAGCAGCCGCGGUAAUACGGAGGGUCCGAGCGUUAAUCGGAAUUACUGGGCGUAAAGCGCGCGUAGGCGGCUA\")"
   ]
  },
  {
   "cell_type": "code",
   "execution_count": 18,
   "id": "5b940fec",
   "metadata": {},
   "outputs": [
    {
     "name": "stdout",
     "output_type": "stream",
     "text": [
      "UGGGGAAUAUUGGACAAUGGGGGCAACCCUGAUCCAGCCAUGCCGCGUGUGUGAAGAAGGCCUUCGGGUUGUAAAGCACUUUCAGAUGUGAGGAAAGGAUAGUAGCUAAUAACUGCUAUCUGUGACGUUAACAUCAGAAGAAGGACCGGCUAACUCCGUGCCAGCAGCCGCGGUAAUACGGAGGGUCCGAGCGUUAAUCGGAAUUACUGGGCGUAAAGCGCGCGUAGGCGGCUA\n"
     ]
    }
   ],
   "source": [
    "print(my_seq.rna_seq)"
   ]
  },
  {
   "cell_type": "code",
   "execution_count": 19,
   "id": "a595da5a",
   "metadata": {},
   "outputs": [
    {
     "name": "stdout",
     "output_type": "stream",
     "text": [
      "WGILDNGGNPDPAMPRV*RRPSGCKALSDVRKG**LITAICDVNIRRRTG*LRASSRGNTEGPSVNRNYWA*SARRRL\n"
     ]
    }
   ],
   "source": [
    "my_seq.translate_rna()"
   ]
  },
  {
   "cell_type": "code",
   "execution_count": 20,
   "id": "f960f6d9",
   "metadata": {},
   "outputs": [
    {
     "name": "stdout",
     "output_type": "stream",
     "text": [
      "TGGGGAATATTGGACAATGGGGGCAACCCTGATCCAGCCATGCCGCGTGTGTGAAGAAGGCCTTCGGGTTGTAAAGCACTTTCAGATGTGAGGAAAGGATAGTAGCTAATAACTGCTATCTGTGACGTTAACATCAGAAGAAGGACCGGCTAACTCCGTGCCAGCAGCCGCGGTAATACGGAGGGTCCGAGCGTTAATCGGAATTACTGGGCGTAAAGCGCGCGTAGGCGGCTA\n"
     ]
    }
   ],
   "source": [
    "my_seq.back_transcribe_rna()"
   ]
  },
  {
   "cell_type": "markdown",
   "id": "ef8bb9af",
   "metadata": {},
   "source": [
    "<h3>3. Сlass inherited from sets<h3>\n",
    "    Напишите класс, унаследовавшись от сэтов"
   ]
  },
  {
   "cell_type": "code",
   "execution_count": 142,
   "id": "f39771eb",
   "metadata": {},
   "outputs": [],
   "source": [
    "class SetInherited(set):\n",
    "    def __init__(self, *args):\n",
    "        for i in args:\n",
    "            if i > 0:\n",
    "                self.add(i)\n",
    "            else:\n",
    "                continue\n",
    "                \n",
    "    def add(self, new_i):\n",
    "        if new_i > 0:\n",
    "            super().add(new_i)\n",
    "        else:\n",
    "            print(\"The number is negative. Try another one\")\n",
    "                "
   ]
  },
  {
   "cell_type": "code",
   "execution_count": 143,
   "id": "1cb7df16",
   "metadata": {},
   "outputs": [],
   "source": [
    "my_set = SetInherited(3, -9, 12, 5, 16, 97, -12)"
   ]
  },
  {
   "cell_type": "code",
   "execution_count": 145,
   "id": "f11c8a6b",
   "metadata": {},
   "outputs": [
    {
     "name": "stdout",
     "output_type": "stream",
     "text": [
      "SetInherited({97, 3, 5, 12, 16})\n"
     ]
    }
   ],
   "source": [
    "print(my_set)"
   ]
  },
  {
   "cell_type": "code",
   "execution_count": 146,
   "id": "c573659c",
   "metadata": {},
   "outputs": [
    {
     "name": "stdout",
     "output_type": "stream",
     "text": [
      "The number is negative. Try another one\n"
     ]
    }
   ],
   "source": [
    "my_set.add(-13)"
   ]
  },
  {
   "cell_type": "code",
   "execution_count": 147,
   "id": "bbe33fbb",
   "metadata": {},
   "outputs": [],
   "source": [
    "my_set.add(13)"
   ]
  },
  {
   "cell_type": "code",
   "execution_count": 148,
   "id": "16a16745",
   "metadata": {},
   "outputs": [
    {
     "data": {
      "text/plain": [
       "{3, 5, 12, 13, 16, 97}"
      ]
     },
     "execution_count": 148,
     "metadata": {},
     "output_type": "execute_result"
    }
   ],
   "source": [
    "my_set"
   ]
  },
  {
   "cell_type": "markdown",
   "id": "a01ec871",
   "metadata": {},
   "source": [
    "<h3>4. Fasta statistics<h3>\n",
    "Создайте класс для сбора статистик по фастам\n",
    "    (нет заданий, начиная с гистограммы частоты k-меров)"
   ]
  },
  {
   "cell_type": "code",
   "execution_count": 6,
   "id": "77f34124",
   "metadata": {},
   "outputs": [],
   "source": [
    "path = 'fasta_test_new.fasta'"
   ]
  },
  {
   "cell_type": "code",
   "execution_count": 12,
   "id": "8794e829",
   "metadata": {},
   "outputs": [],
   "source": [
    "class FastaStat:\n",
    "    def __init__(self, fasta_path):\n",
    "        self.fasta_path = fasta_path\n",
    "        \n",
    "    def seq_count(self):\n",
    "        input_file = open(self.fasta_path)\n",
    "        count_seq = []\n",
    "        for line in input_file:\n",
    "            if line.startswith('>'):\n",
    "                count_seq.append(1)\n",
    "            else:\n",
    "                continue\n",
    "        print(sum(count_seq))\n",
    "        input_file.close()\n",
    "        \n",
    "    def length_dist(self):\n",
    "        input_file = open(self.fasta_path)\n",
    "        lengths = []\n",
    "        fasta_parse = SeqIO.parse(input_file, \"fasta\")\n",
    "        for seq in fasta_parse:\n",
    "            lengths.append(len(seq.seq))\n",
    "        dist_plot = sns.displot(lengths, color = \"lightblue\")\n",
    "        dist_plot.set(xlabel=\"Sequences length distribution\")\n",
    "        input_file.close()\n",
    "        \n",
    "    def gc_count(self):\n",
    "        input_file = open(self.fasta_path)\n",
    "        fasta_file = input_file.read()\n",
    "        c = 0\n",
    "        a = 0\n",
    "        g = 0\n",
    "        t = 0\n",
    "        for seq in fasta_file:\n",
    "            if \"C\" in seq:\n",
    "                c += 1    \n",
    "            elif \"G\" in seq:\n",
    "                g += 1\n",
    "            elif \"A\" in seq:\n",
    "                a += 1    \n",
    "            elif \"T\" in seq:\n",
    "                t += 1\n",
    "        gc_content = (g + c) * 100 / (a + t + g + c)\n",
    "        print(\"The GC content is % f \" % gc_content, \"%\")\n",
    "        input_file.close()"
   ]
  },
  {
   "cell_type": "code",
   "execution_count": 7,
   "id": "64b6774c",
   "metadata": {},
   "outputs": [],
   "source": [
    "my_fasta = FastaStat(path)"
   ]
  },
  {
   "cell_type": "code",
   "execution_count": 8,
   "id": "7557abfe",
   "metadata": {},
   "outputs": [
    {
     "data": {
      "text/plain": [
       "'fasta_test_new.fasta'"
      ]
     },
     "execution_count": 8,
     "metadata": {},
     "output_type": "execute_result"
    }
   ],
   "source": [
    "my_fasta.fasta_path"
   ]
  },
  {
   "cell_type": "code",
   "execution_count": 9,
   "id": "68f9b4e3",
   "metadata": {},
   "outputs": [
    {
     "name": "stdout",
     "output_type": "stream",
     "text": [
      "111\n"
     ]
    }
   ],
   "source": [
    "my_fasta.seq_count()"
   ]
  },
  {
   "cell_type": "code",
   "execution_count": 10,
   "id": "384f3488",
   "metadata": {},
   "outputs": [
    {
     "data": {
      "image/png": "[encoded data removed]",
      "text/plain": [
       "<Figure size 360x360 with 1 Axes>"
      ]
     },
     "metadata": {
      "needs_background": "light"
     },
     "output_type": "display_data"
    }
   ],
   "source": [
    "my_fasta.length_dist()"
   ]
  },
  {
   "cell_type": "code",
   "execution_count": 13,
   "id": "dade00b5",
   "metadata": {},
   "outputs": [
    {
     "name": "stdout",
     "output_type": "stream",
     "text": [
      "The GC content is  46.491066  %\n"
     ]
    }
   ],
   "source": [
    "my_fasta.gc_count()"
   ]
  }
 ],
 "metadata": {
  "kernelspec": {
   "display_name": "Python 3 (ipykernel)",
   "language": "python",
   "name": "python3"
  },
  "language_info": {
   "codemirror_mode": {
    "name": "ipython",
    "version": 3
   },
   "file_extension": ".py",
   "mimetype": "text/x-python",
   "name": "python",
   "nbconvert_exporter": "python",
   "pygments_lexer": "ipython3",
   "version": "3.9.7"
  }
 },
 "nbformat": 4,
 "nbformat_minor": 5
}
